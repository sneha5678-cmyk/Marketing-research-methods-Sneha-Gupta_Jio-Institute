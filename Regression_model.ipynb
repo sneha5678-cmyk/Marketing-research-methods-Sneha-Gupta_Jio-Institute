{
  "nbformat": 4,
  "nbformat_minor": 0,
  "metadata": {
    "colab": {
      "provenance": [],
      "authorship_tag": "ABX9TyNxqQZ2kHTKvWjKXoxqLpz7",
      "include_colab_link": true
    },
    "kernelspec": {
      "name": "python3",
      "display_name": "Python 3"
    },
    "language_info": {
      "name": "python"
    }
  },
  "cells": [
    {
      "cell_type": "markdown",
      "metadata": {
        "id": "view-in-github",
        "colab_type": "text"
      },
      "source": [
        "<a href=\"https://colab.research.google.com/github/sneha5678-cmyk/Marketing-research-methods-Sneha-Gupta_Jio-Institute/blob/main/Regression_model.ipynb\" target=\"_parent\"><img src=\"https://colab.research.google.com/assets/colab-badge.svg\" alt=\"Open In Colab\"/></a>"
      ]
    },
    {
      "cell_type": "code",
      "source": [
        "# Import necessary libraries\n",
        "import pandas as pd\n",
        "\n",
        "# Load the dataset (ensure it's correctly uploaded in Colab)\n",
        "file_path = '/content/autos_resale_Dataset.xlsx'\n",
        "data = pd.read_excel(file_path)\n",
        "\n",
        "# Display the column names to check if 'abtest' exists\n",
        "print(\"Column names in dataset:\", data.columns)\n",
        "\n",
        "# List of columns to consider (update if necessary based on actual columns in your dataset)\n",
        "columns_to_consider = ['seller', 'offerType', 'abtest', 'vehicleType', 'yearOfRegistration', 'gearbox', 'powerPS',\n",
        "                       'model', 'kilometer', 'monthOfRegistration', 'fuelType', 'brand', 'notRepairedDamage', 'price']\n",
        "\n",
        "# Check if all the columns exist in the dataset\n",
        "missing_columns = [col for col in columns_to_consider if col not in data.columns]\n",
        "if missing_columns:\n",
        "    print(f\"Warning: The following columns are missing: {missing_columns}\")\n",
        "else:\n",
        "    # Filter the dataset to include only the selected columns\n",
        "    data = data[columns_to_consider]\n",
        "\n",
        "# Handle missing values, if any\n",
        "data = data.dropna()\n",
        "\n",
        "# Define independent and dependent variables\n",
        "# Replace 'X' and 'Y' with actual column names from your dataset\n",
        "X = data[['yearOfRegistration', 'powerPS', 'kilometer']]  # Example: Replace with your actual independent variables\n",
        "Y = data['price']  # Example: Replace with your actual dependent variable\n",
        "\n",
        "# Add a constant to the independent variables matrix (for the intercept term)\n",
        "import statsmodels.api as sm\n",
        "X = sm.add_constant(X)\n",
        "\n",
        "# Fit the regression model\n",
        "model = sm.OLS(Y, X).fit()\n",
        "\n",
        "# Display the regression results\n",
        "print(model.summary())"
      ],
      "metadata": {
        "colab": {
          "base_uri": "https://localhost:8080/"
        },
        "id": "nc3lIuJUvO4B",
        "outputId": "049acc27-ed5e-484b-c31c-f09f72e550a1"
      },
      "execution_count": null,
      "outputs": [
        {
          "output_type": "stream",
          "name": "stdout",
          "text": [
            "Column names in dataset: Index(['index', 'dateCrawled', 'name', 'seller', 'offerType', 'price',\n",
            "       'vehicleType', 'yearOfRegistration', 'gearbox', 'powerPS', 'model',\n",
            "       'kilometer', 'monthOfRegistration', 'fuelType', 'brand',\n",
            "       'notRepairedDamage', 'dateCreated', 'nrOfPictures', 'postalCode',\n",
            "       'lastSeen'],\n",
            "      dtype='object')\n",
            "Warning: The following columns are missing: ['abtest']\n",
            "                            OLS Regression Results                            \n",
            "==============================================================================\n",
            "Dep. Variable:                  price   R-squared:                       0.000\n",
            "Model:                            OLS   Adj. R-squared:                  0.000\n",
            "Method:                 Least Squares   F-statistic:                     24.80\n",
            "Date:                Mon, 06 Jan 2025   Prob (F-statistic):           4.87e-16\n",
            "Time:                        13:20:30   Log-Likelihood:            -3.6964e+06\n",
            "No. Observations:              260947   AIC:                         7.393e+06\n",
            "Df Residuals:                  260943   BIC:                         7.393e+06\n",
            "Df Model:                           3                                         \n",
            "Covariance Type:            nonrobust                                         \n",
            "======================================================================================\n",
            "                         coef    std err          t      P>|t|      [0.025      0.975]\n",
            "--------------------------------------------------------------------------------------\n",
            "const              -5.033e+05   2.27e+05     -2.216      0.027   -9.48e+05   -5.81e+04\n",
            "yearOfRegistration   260.4588    112.949      2.306      0.021      39.082     481.835\n",
            "powerPS               18.7467      4.651      4.030      0.000       9.630      27.863\n",
            "kilometer             -0.1020      0.018     -5.557      0.000      -0.138      -0.066\n",
            "==============================================================================\n",
            "Omnibus:                  1405216.138   Durbin-Watson:                   2.000\n",
            "Prob(Omnibus):                  0.000   Jarque-Bera (JB):   72592536196720.188\n",
            "Skew:                         282.347   Prob(JB):                         0.00\n",
            "Kurtosis:                   81711.094   Cond. No.                     4.40e+07\n",
            "==============================================================================\n",
            "\n",
            "Notes:\n",
            "[1] Standard Errors assume that the covariance matrix of the errors is correctly specified.\n",
            "[2] The condition number is large, 4.4e+07. This might indicate that there are\n",
            "strong multicollinearity or other numerical problems.\n"
          ]
        }
      ]
    }
  ]
}