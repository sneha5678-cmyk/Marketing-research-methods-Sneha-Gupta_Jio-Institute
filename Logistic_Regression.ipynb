{
  "nbformat": 4,
  "nbformat_minor": 0,
  "metadata": {
    "colab": {
      "provenance": [],
      "authorship_tag": "ABX9TyPP/qyY9icKNQ1zW8RVX4zS",
      "include_colab_link": true
    },
    "kernelspec": {
      "name": "python3",
      "display_name": "Python 3"
    },
    "language_info": {
      "name": "python"
    }
  },
  "cells": [
    {
      "cell_type": "markdown",
      "metadata": {
        "id": "view-in-github",
        "colab_type": "text"
      },
      "source": [
        "<a href=\"https://colab.research.google.com/github/sneha5678-cmyk/Marketing-research-methods-Sneha-Gupta_Jio-Institute/blob/main/Logistic_Regression.ipynb\" target=\"_parent\"><img src=\"https://colab.research.google.com/assets/colab-badge.svg\" alt=\"Open In Colab\"/></a>"
      ]
    },
    {
      "cell_type": "code",
      "source": [
        "import pandas as pd\n",
        "from sklearn.model_selection import train_test_split\n",
        "from sklearn.preprocessing import LabelEncoder\n",
        "from sklearn.linear_model import LogisticRegression\n",
        "from sklearn.metrics import accuracy_score, confusion_matrix, classification_report\n",
        "\n",
        "# Load the dataset from the provided path\n",
        "file_path = '/content/bank marketing - logistic.xlsx'\n",
        "df = pd.read_excel(file_path)\n",
        "\n",
        "# Display the first few rows to verify the data\n",
        "df.head()\n",
        "\n",
        "# List of categorical columns that need to be converted into dummy variables\n",
        "categorical_columns = ['job', 'marital', 'education', 'default', 'housing', 'loan', 'contact', 'month', 'poutcome']\n",
        "\n",
        "# Create dummy variables for categorical columns\n",
        "df = pd.get_dummies(df, columns=categorical_columns, drop_first=True)\n",
        "\n",
        "# Encode the target variable (y) to numerical values (0 for 'no', 1 for 'yes')\n",
        "label_encoder = LabelEncoder()\n",
        "df['y'] = label_encoder.fit_transform(df['y'])  # 'no' becomes 0, 'yes' becomes 1\n",
        "\n",
        "# Separate the independent variables (X) and the dependent variable (y)\n",
        "X = df.drop(columns=['y'])\n",
        "y = df['y']\n",
        "\n",
        "# Split the data into training and testing sets\n",
        "X_train, X_test, y_train, y_test = train_test_split(X, y, test_size=0.2, random_state=42)\n",
        "\n",
        "# Initialize and train the Logistic Regression model\n",
        "log_reg_model = LogisticRegression(max_iter=500)\n",
        "log_reg_model.fit(X_train, y_train)\n",
        "\n",
        "# Make predictions\n",
        "y_pred = log_reg_model.predict(X_test)\n",
        "\n",
        "# Evaluate the model\n",
        "print(f\"Accuracy: {accuracy_score(y_test, y_pred)}\")\n",
        "print(f\"Confusion Matrix:\\n{confusion_matrix(y_test, y_pred)}\")\n",
        "print(f\"Classification Report:\\n{classification_report(y_test, y_pred)}\")\n",
        "\n",
        "# Optional: View coefficients of the logistic regression\n",
        "coefficients = pd.DataFrame(log_reg_model.coef_, columns=X.columns)\n",
        "print(\"Model Coefficients:\")\n",
        "print(coefficients)\n"
      ],
      "metadata": {
        "colab": {
          "base_uri": "https://localhost:8080/"
        },
        "id": "SnkaseK421Qp",
        "outputId": "444744df-f1c1-491c-de73-2a7a1a5edffd"
      },
      "execution_count": null,
      "outputs": [
        {
          "output_type": "stream",
          "name": "stdout",
          "text": [
            "Accuracy: 0.8939226519337017\n",
            "Confusion Matrix:\n",
            "[[786  21]\n",
            " [ 75  23]]\n",
            "Classification Report:\n",
            "              precision    recall  f1-score   support\n",
            "\n",
            "           0       0.91      0.97      0.94       807\n",
            "           1       0.52      0.23      0.32        98\n",
            "\n",
            "    accuracy                           0.89       905\n",
            "   macro avg       0.72      0.60      0.63       905\n",
            "weighted avg       0.87      0.89      0.88       905\n",
            "\n",
            "Model Coefficients:\n",
            "        age   balance       day  duration  campaign     pdays  previous  \\\n",
            "0 -0.006738  0.000003  0.004805  0.004251  -0.05008 -0.001712 -0.013953   \n",
            "\n",
            "   job_blue-collar  job_entrepreneur  job_housemaid  ...  month_jul  \\\n",
            "0        -0.493965         -0.235148      -0.054725  ...   -0.42243   \n",
            "\n",
            "   month_jun  month_mar  month_may  month_nov  month_oct  month_sep  \\\n",
            "0  -0.013606   0.369309  -0.777591  -0.408041   0.449971    0.18489   \n",
            "\n",
            "   poutcome_other  poutcome_success  poutcome_unknown  \n",
            "0        0.062815          1.063365         -1.140135  \n",
            "\n",
            "[1 rows x 42 columns]\n"
          ]
        },
        {
          "output_type": "stream",
          "name": "stderr",
          "text": [
            "/usr/local/lib/python3.10/dist-packages/sklearn/linear_model/_logistic.py:465: ConvergenceWarning: lbfgs failed to converge (status=1):\n",
            "STOP: TOTAL NO. of ITERATIONS REACHED LIMIT.\n",
            "\n",
            "Increase the number of iterations (max_iter) or scale the data as shown in:\n",
            "    https://scikit-learn.org/stable/modules/preprocessing.html\n",
            "Please also refer to the documentation for alternative solver options:\n",
            "    https://scikit-learn.org/stable/modules/linear_model.html#logistic-regression\n",
            "  n_iter_i = _check_optimize_result(\n"
          ]
        }
      ]
    },
    {
      "cell_type": "code",
      "source": [
        "import pandas as pd\n",
        "from sklearn.model_selection import train_test_split\n",
        "from sklearn.preprocessing import LabelEncoder\n",
        "from sklearn.linear_model import LogisticRegression\n",
        "from sklearn.metrics import accuracy_score, confusion_matrix, classification_report\n",
        "\n",
        "# Load the dataset from the Excel file\n",
        "file_path = '/content/bank marketing - logistic.xlsx'\n",
        "df = pd.read_excel(file_path)\n",
        "\n",
        "# Check the first few rows of the dataset to understand its structure\n",
        "print(df.head())\n",
        "\n",
        "# Convert categorical variables into dummy variables\n",
        "categorical_columns = ['job', 'marital', 'education', 'default', 'housing', 'loan', 'contact', 'month', 'poutcome']\n",
        "\n",
        "# Create dummy variables for categorical columns\n",
        "df = pd.get_dummies(df, columns=categorical_columns, drop_first=True)\n",
        "\n",
        "# Encode the target variable (y) to numerical values\n",
        "label_encoder = LabelEncoder()\n",
        "df['y'] = label_encoder.fit_transform(df['y'])  # 'no' becomes 0, 'yes' becomes 1\n",
        "\n",
        "# Separate the independent variables (X) and the dependent variable (y)\n",
        "X = df.drop(columns=['y'])\n",
        "y = df['y']\n",
        "\n",
        "# Split the data into training and testing sets\n",
        "X_train, X_test, y_train, y_test = train_test_split(X, y, test_size=0.2, random_state=42)\n",
        "\n",
        "# Initialize and train the Logistic Regression model\n",
        "log_reg_model = LogisticRegression(max_iter=500)\n",
        "log_reg_model.fit(X_train, y_train)\n",
        "\n",
        "# Make predictions\n",
        "y_pred = log_reg_model.predict(X_test)\n",
        "\n",
        "# Evaluate the model\n",
        "print(f\"Accuracy: {accuracy_score(y_test, y_pred)}\")\n",
        "print(f\"Confusion Matrix:\\n{confusion_matrix(y_test, y_pred)}\")\n",
        "print(f\"Classification Report:\\n{classification_report(y_test, y_pred)}\")\n",
        "\n",
        "# Optional: View coefficients of the logistic regression\n",
        "coefficients = pd.DataFrame(log_reg_model.coef_, columns=X.columns)\n",
        "print(\"Model Coefficients:\")\n",
        "print(coefficients)\n"
      ],
      "metadata": {
        "colab": {
          "base_uri": "https://localhost:8080/"
        },
        "id": "Bga7R08K4wqm",
        "outputId": "15091321-4ae8-4ddb-b267-b8d4702f8e3e"
      },
      "execution_count": null,
      "outputs": [
        {
          "output_type": "stream",
          "name": "stdout",
          "text": [
            "   age          job  marital  education default  balance housing loan  \\\n",
            "0   30   unemployed  married    primary      no     1787      no   no   \n",
            "1   33     services  married  secondary      no     4789     yes  yes   \n",
            "2   35   management   single   tertiary      no     1350     yes   no   \n",
            "3   30   management  married   tertiary      no     1476     yes  yes   \n",
            "4   59  blue-collar  married  secondary      no        0     yes   no   \n",
            "\n",
            "    contact  day month  duration  campaign  pdays  previous poutcome   y  \n",
            "0  cellular   19   oct        79         1     -1         0  unknown  no  \n",
            "1  cellular   11   may       220         1    339         4  failure  no  \n",
            "2  cellular   16   apr       185         1    330         1  failure  no  \n",
            "3   unknown    3   jun       199         4     -1         0  unknown  no  \n",
            "4   unknown    5   may       226         1     -1         0  unknown  no  \n",
            "Accuracy: 0.8939226519337017\n",
            "Confusion Matrix:\n",
            "[[786  21]\n",
            " [ 75  23]]\n",
            "Classification Report:\n",
            "              precision    recall  f1-score   support\n",
            "\n",
            "           0       0.91      0.97      0.94       807\n",
            "           1       0.52      0.23      0.32        98\n",
            "\n",
            "    accuracy                           0.89       905\n",
            "   macro avg       0.72      0.60      0.63       905\n",
            "weighted avg       0.87      0.89      0.88       905\n",
            "\n",
            "Model Coefficients:\n",
            "        age   balance       day  duration  campaign     pdays  previous  \\\n",
            "0 -0.006738  0.000003  0.004805  0.004251  -0.05008 -0.001712 -0.013953   \n",
            "\n",
            "   job_blue-collar  job_entrepreneur  job_housemaid  ...  month_jul  \\\n",
            "0        -0.493965         -0.235148      -0.054725  ...   -0.42243   \n",
            "\n",
            "   month_jun  month_mar  month_may  month_nov  month_oct  month_sep  \\\n",
            "0  -0.013606   0.369309  -0.777591  -0.408041   0.449971    0.18489   \n",
            "\n",
            "   poutcome_other  poutcome_success  poutcome_unknown  \n",
            "0        0.062815          1.063365         -1.140135  \n",
            "\n",
            "[1 rows x 42 columns]\n"
          ]
        },
        {
          "output_type": "stream",
          "name": "stderr",
          "text": [
            "/usr/local/lib/python3.10/dist-packages/sklearn/linear_model/_logistic.py:465: ConvergenceWarning: lbfgs failed to converge (status=1):\n",
            "STOP: TOTAL NO. of ITERATIONS REACHED LIMIT.\n",
            "\n",
            "Increase the number of iterations (max_iter) or scale the data as shown in:\n",
            "    https://scikit-learn.org/stable/modules/preprocessing.html\n",
            "Please also refer to the documentation for alternative solver options:\n",
            "    https://scikit-learn.org/stable/modules/linear_model.html#logistic-regression\n",
            "  n_iter_i = _check_optimize_result(\n"
          ]
        }
      ]
    }
  ]
}